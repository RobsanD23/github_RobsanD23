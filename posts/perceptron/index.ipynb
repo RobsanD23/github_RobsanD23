{
 "cells": [
  {
   "cell_type": "raw",
   "metadata": {
    "vscode": {
     "languageId": "raw"
    }
   },
   "source": [
    "---\n",
    "title: Implementing the Perceptron Algorithm\n",
    "author: Robsan Dinka\n",
    "date: '2025-01-24'\n",
    "image: image.jpg\n",
    "description: \"In this blog post, we will complete an implementation of the perceptron algorithm and test it in several experiments.\"\n",
    "format: html\n",
    "---"
   ]
  },
  {
   "cell_type": "markdown",
   "metadata": {},
   "source": [
    "To start, we will make a file named perceptron.py and import Perceptron and Percptron Optimizer. The first 2 lines of code automatically load any changes made to the perceptron.py file."
   ]
  },
  {
   "cell_type": "code",
   "execution_count": 5,
   "metadata": {},
   "outputs": [
    {
     "name": "stdout",
     "output_type": "stream",
     "text": [
      "The autoreload extension is already loaded. To reload it, use:\n",
      "  %reload_ext autoreload\n"
     ]
    }
   ],
   "source": [
    "%load_ext autoreload\n",
    "%autoreload 2\n",
    "from perceptron import Perceptron, PerceptronOptimizer\n",
    "import torch\n",
    "import matplotlib.pyplot as plt"
   ]
  },
  {
   "cell_type": "code",
   "execution_count": 6,
   "metadata": {},
   "outputs": [],
   "source": [
    "#Define X\n",
    "def perceptron_data(n_points = 300, noise = 0.2, p_dims = 2):\n",
    "    \n",
    "    y = torch.arange(n_points) >= int(n_points/2)\n",
    "    X = y[:, None] + torch.normal(0.0, noise, size = (n_points,p_dims))\n",
    "    X = torch.cat((X, torch.ones((X.shape[0], 1))), 1)\n",
    "\n",
    "    # convert y from {0, 1} to {-1, 1}\n",
    "    \n",
    "    return X, y\n",
    "\n",
    "X, y = perceptron_data(n_points = 300, noise = 0.2)"
   ]
  },
  {
   "cell_type": "code",
   "execution_count": 14,
   "metadata": {},
   "outputs": [
    {
     "ename": "RuntimeError",
     "evalue": "output with shape [3] doesn't match the broadcast shape [1, 3]",
     "output_type": "error",
     "traceback": [
      "\u001b[1;31m---------------------------------------------------------------------------\u001b[0m",
      "\u001b[1;31mRuntimeError\u001b[0m                              Traceback (most recent call last)",
      "Cell \u001b[1;32mIn[14], line 18\u001b[0m\n\u001b[0;32m     15\u001b[0m x_i \u001b[38;5;241m=\u001b[39m X[[i],:]\n\u001b[0;32m     16\u001b[0m y_i \u001b[38;5;241m=\u001b[39m y[i]\n\u001b[1;32m---> 18\u001b[0m \u001b[43mopt\u001b[49m\u001b[38;5;241;43m.\u001b[39;49m\u001b[43mstep\u001b[49m\u001b[43m(\u001b[49m\u001b[43mx_i\u001b[49m\u001b[43m,\u001b[49m\u001b[43m \u001b[49m\u001b[43my_i\u001b[49m\u001b[43m)\u001b[49m\n",
      "File \u001b[1;32mc:\\Users\\robsa\\OneDrive\\Documents\\machine_learning\\github_RobsanD23\\posts\\perceptron\\perceptron.py:93\u001b[0m, in \u001b[0;36mPerceptronOptimizer.step\u001b[1;34m(self, X, y)\u001b[0m\n\u001b[0;32m     87\u001b[0m \u001b[38;5;250m\u001b[39m\u001b[38;5;124;03m\"\"\"\u001b[39;00m\n\u001b[0;32m     88\u001b[0m \u001b[38;5;124;03mCompute one step of the perceptron update using the feature matrix X \u001b[39;00m\n\u001b[0;32m     89\u001b[0m \u001b[38;5;124;03mand target vector y. \u001b[39;00m\n\u001b[0;32m     90\u001b[0m \u001b[38;5;124;03m\"\"\"\u001b[39;00m\n\u001b[0;32m     91\u001b[0m \u001b[38;5;28mself\u001b[39m\u001b[38;5;241m.\u001b[39mmodel\u001b[38;5;241m.\u001b[39mloss(X, y)\n\u001b[1;32m---> 93\u001b[0m \u001b[38;5;28mself\u001b[39m\u001b[38;5;241m.\u001b[39mmodel\u001b[38;5;241m.\u001b[39mw \u001b[38;5;241m-\u001b[39m\u001b[38;5;241m=\u001b[39m \u001b[38;5;28mself\u001b[39m\u001b[38;5;241m.\u001b[39mmodel\u001b[38;5;241m.\u001b[39mgrad(X,y)\n\u001b[0;32m     95\u001b[0m \u001b[38;5;28;01mpass\u001b[39;00m\n",
      "\u001b[1;31mRuntimeError\u001b[0m: output with shape [3] doesn't match the broadcast shape [1, 3]"
     ]
    }
   ],
   "source": [
    "p = Perceptron()\n",
    "opt = PerceptronOptimizer(p)\n",
    "\n",
    "loss = 1.0\n",
    "\n",
    "loss_vec = []\n",
    "\n",
    "n = X.size()[0]\n",
    "\n",
    "while loss > 0:\n",
    "    loss = p.loss(X,y)\n",
    "    loss_vec.append(loss)\n",
    "\n",
    "    i = torch.randint(n,size= (1,))\n",
    "    x_i = X[[i],:]\n",
    "    y_i = y[i]\n",
    "\n",
    "    opt.step(x_i, y_i)"
   ]
  },
  {
   "cell_type": "code",
   "execution_count": null,
   "metadata": {},
   "outputs": [],
   "source": [
    "plt.plot(loss_vec, color = \"slategrey\")\n",
    "plt.scatter(torch.arange(len(loss_vec)), loss_vec, color = \"slategrey\")\n",
    "labs = plt.gca().set(xlabel = \"Perceptron Iteration (Updates Only)\", ylabel = \"loss\")"
   ]
  }
 ],
 "metadata": {
  "kernelspec": {
   "display_name": "ml-451",
   "language": "python",
   "name": "python3"
  },
  "language_info": {
   "codemirror_mode": {
    "name": "ipython",
    "version": 3
   },
   "file_extension": ".py",
   "mimetype": "text/x-python",
   "name": "python",
   "nbconvert_exporter": "python",
   "pygments_lexer": "ipython3",
   "version": "3.9.21"
  }
 },
 "nbformat": 4,
 "nbformat_minor": 2
}
