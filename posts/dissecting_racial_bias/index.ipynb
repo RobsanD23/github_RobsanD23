{
 "cells": [
  {
   "cell_type": "raw",
   "id": "3422ae61",
   "metadata": {
    "vscode": {
     "languageId": "raw"
    }
   },
   "source": [
    "---\n",
    "title: Dissecting Racial Bias in an Algorithm Used to Manage the Health of Populations\n",
    "author: Robsan Dinka\n",
    "date: '2025-03-05'\n",
    "image: image.jpg\n",
    "description: \"Creating a machine learning model that predicts employment status and checking for bias.\"\n",
    "format: html\n",
    "---"
   ]
  }
 ],
 "metadata": {
  "language_info": {
   "name": "python"
  }
 },
 "nbformat": 4,
 "nbformat_minor": 5
}
