{
 "cells": [
  {
   "cell_type": "raw",
   "id": "6f3d2247",
   "metadata": {
    "vscode": {
     "languageId": "raw"
    }
   },
   "source": [
    "---\n",
    "title: Sparse Kernel Machines\n",
    "author: Robsan Dinka\n",
    "date: '2025-03-05'\n",
    "image: image.jpg\n",
    "description: \"Creating a machine learning model that predicts employment status and checking for bias.\"\n",
    "format: html\n",
    "---"
   ]
  }
 ],
 "metadata": {
  "language_info": {
   "name": "python"
  }
 },
 "nbformat": 4,
 "nbformat_minor": 5
}
