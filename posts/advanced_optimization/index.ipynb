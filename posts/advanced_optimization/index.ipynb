{
 "cells": [
  {
   "cell_type": "raw",
   "id": "fd21cfd7",
   "metadata": {
    "vscode": {
     "languageId": "raw"
    }
   },
   "source": [
    "---\n",
    "title: Advanced Optimization Newton's Method and Adam\n",
    "author: Robsan Dinka\n",
    "date: '2025-03-05'\n",
    "image: image.jpg\n",
    "description: \"Creating a machine learning model that predicts employment status and checking for bias.\"\n",
    "format: html\n",
    "---"
   ]
  }
 ],
 "metadata": {
  "language_info": {
   "name": "python"
  }
 },
 "nbformat": 4,
 "nbformat_minor": 5
}
