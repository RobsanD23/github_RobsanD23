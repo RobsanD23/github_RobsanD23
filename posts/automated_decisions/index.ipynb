{
 "cells": [
  {
   "cell_type": "raw",
   "id": "801afdd4",
   "metadata": {
    "vscode": {
     "languageId": "raw"
    }
   },
   "source": [
    "---\n",
    "title: Design & Impact of Automated Decision Systems\n",
    "author: Robsan Dinka\n",
    "date: '2025-05-17'\n",
    "description: \"Using banking information to predict loan default and assessing the impact of automated financial decision making.\"\n",
    "format: html\n",
    "---"
   ]
  },
  {
   "cell_type": "markdown",
   "id": "e6aa2f2e",
   "metadata": {},
   "source": [
    "# Abstract\n",
    "In this blog post we have 2 goals. Our first goal is to find a score fucntion and a threshold that will optimize the total expected profit for a bank using any feature provided by the training data. Our second goal is to assess how our model impacts different groups of people.\n",
    "\n",
    "What we will do is fit our data on a Logisitic Regression model to get our weight vector. Then, we will make a scoring fuction and threshold to optimize the total expected profit. "
   ]
  },
  {
   "cell_type": "markdown",
   "id": "f6fa6eee",
   "metadata": {},
   "source": [
    "## Grabbing the Data\n",
    "In the cell below, we are loading the testing data in to a pandas dataframe consisting of 26064 samples and 12 features for each sample."
   ]
  },
  {
   "cell_type": "code",
   "execution_count": 90,
   "id": "b3d6ee02",
   "metadata": {},
   "outputs": [],
   "source": [
    "import pandas as pd\n",
    "import torch\n",
    "import numpy as np\n",
    "url = \"https://raw.githubusercontent.com/PhilChodrow/ml-notes/main/data/credit-risk/train.csv\"\n",
    "df_train = pd.read_csv(url)"
   ]
  },
  {
   "cell_type": "code",
   "execution_count": 5,
   "id": "2a57a8ef",
   "metadata": {},
   "outputs": [
    {
     "data": {
      "text/plain": [
       "(26064, 12)"
      ]
     },
     "execution_count": 5,
     "metadata": {},
     "output_type": "execute_result"
    }
   ],
   "source": [
    "df_train.shape\n"
   ]
  },
  {
   "cell_type": "markdown",
   "id": "72a3f237",
   "metadata": {},
   "source": [
    "Here are the first 5 rows of data in a table format."
   ]
  },
  {
   "cell_type": "code",
   "execution_count": 6,
   "id": "f9cfaab4",
   "metadata": {},
   "outputs": [
    {
     "data": {
      "text/html": [
       "<div>\n",
       "<style scoped>\n",
       "    .dataframe tbody tr th:only-of-type {\n",
       "        vertical-align: middle;\n",
       "    }\n",
       "\n",
       "    .dataframe tbody tr th {\n",
       "        vertical-align: top;\n",
       "    }\n",
       "\n",
       "    .dataframe thead th {\n",
       "        text-align: right;\n",
       "    }\n",
       "</style>\n",
       "<table border=\"1\" class=\"dataframe\">\n",
       "  <thead>\n",
       "    <tr style=\"text-align: right;\">\n",
       "      <th></th>\n",
       "      <th>person_age</th>\n",
       "      <th>person_income</th>\n",
       "      <th>person_home_ownership</th>\n",
       "      <th>person_emp_length</th>\n",
       "      <th>loan_intent</th>\n",
       "      <th>loan_grade</th>\n",
       "      <th>loan_amnt</th>\n",
       "      <th>loan_int_rate</th>\n",
       "      <th>loan_status</th>\n",
       "      <th>loan_percent_income</th>\n",
       "      <th>cb_person_default_on_file</th>\n",
       "      <th>cb_person_cred_hist_length</th>\n",
       "    </tr>\n",
       "  </thead>\n",
       "  <tbody>\n",
       "    <tr>\n",
       "      <th>0</th>\n",
       "      <td>25</td>\n",
       "      <td>43200</td>\n",
       "      <td>RENT</td>\n",
       "      <td>NaN</td>\n",
       "      <td>VENTURE</td>\n",
       "      <td>B</td>\n",
       "      <td>1200</td>\n",
       "      <td>9.91</td>\n",
       "      <td>0</td>\n",
       "      <td>0.03</td>\n",
       "      <td>N</td>\n",
       "      <td>4</td>\n",
       "    </tr>\n",
       "    <tr>\n",
       "      <th>1</th>\n",
       "      <td>27</td>\n",
       "      <td>98000</td>\n",
       "      <td>RENT</td>\n",
       "      <td>3.0</td>\n",
       "      <td>EDUCATION</td>\n",
       "      <td>C</td>\n",
       "      <td>11750</td>\n",
       "      <td>13.47</td>\n",
       "      <td>0</td>\n",
       "      <td>0.12</td>\n",
       "      <td>Y</td>\n",
       "      <td>6</td>\n",
       "    </tr>\n",
       "    <tr>\n",
       "      <th>2</th>\n",
       "      <td>22</td>\n",
       "      <td>36996</td>\n",
       "      <td>RENT</td>\n",
       "      <td>5.0</td>\n",
       "      <td>EDUCATION</td>\n",
       "      <td>A</td>\n",
       "      <td>10000</td>\n",
       "      <td>7.51</td>\n",
       "      <td>0</td>\n",
       "      <td>0.27</td>\n",
       "      <td>N</td>\n",
       "      <td>4</td>\n",
       "    </tr>\n",
       "    <tr>\n",
       "      <th>3</th>\n",
       "      <td>24</td>\n",
       "      <td>26000</td>\n",
       "      <td>RENT</td>\n",
       "      <td>2.0</td>\n",
       "      <td>MEDICAL</td>\n",
       "      <td>C</td>\n",
       "      <td>1325</td>\n",
       "      <td>12.87</td>\n",
       "      <td>1</td>\n",
       "      <td>0.05</td>\n",
       "      <td>N</td>\n",
       "      <td>4</td>\n",
       "    </tr>\n",
       "    <tr>\n",
       "      <th>4</th>\n",
       "      <td>29</td>\n",
       "      <td>53004</td>\n",
       "      <td>MORTGAGE</td>\n",
       "      <td>2.0</td>\n",
       "      <td>HOMEIMPROVEMENT</td>\n",
       "      <td>A</td>\n",
       "      <td>15000</td>\n",
       "      <td>9.63</td>\n",
       "      <td>0</td>\n",
       "      <td>0.28</td>\n",
       "      <td>N</td>\n",
       "      <td>10</td>\n",
       "    </tr>\n",
       "  </tbody>\n",
       "</table>\n",
       "</div>"
      ],
      "text/plain": [
       "   person_age  person_income person_home_ownership  person_emp_length  \\\n",
       "0          25          43200                  RENT                NaN   \n",
       "1          27          98000                  RENT                3.0   \n",
       "2          22          36996                  RENT                5.0   \n",
       "3          24          26000                  RENT                2.0   \n",
       "4          29          53004              MORTGAGE                2.0   \n",
       "\n",
       "       loan_intent loan_grade  loan_amnt  loan_int_rate  loan_status  \\\n",
       "0          VENTURE          B       1200           9.91            0   \n",
       "1        EDUCATION          C      11750          13.47            0   \n",
       "2        EDUCATION          A      10000           7.51            0   \n",
       "3          MEDICAL          C       1325          12.87            1   \n",
       "4  HOMEIMPROVEMENT          A      15000           9.63            0   \n",
       "\n",
       "   loan_percent_income cb_person_default_on_file  cb_person_cred_hist_length  \n",
       "0                 0.03                         N                           4  \n",
       "1                 0.12                         Y                           6  \n",
       "2                 0.27                         N                           4  \n",
       "3                 0.05                         N                           4  \n",
       "4                 0.28                         N                          10  "
      ]
     },
     "execution_count": 6,
     "metadata": {},
     "output_type": "execute_result"
    }
   ],
   "source": [
    "df_train.head()"
   ]
  },
  {
   "cell_type": "markdown",
   "id": "58f70c28",
   "metadata": {},
   "source": [
    "## Exploring the Data\n",
    "In this part of our blog post, we will explore the data to understand the features and their distributions. We will also visualize the data to get a better understanding of the relationships between different features."
   ]
  },
  {
   "cell_type": "markdown",
   "id": "e6a90d0c",
   "metadata": {},
   "source": [
    "The bar graph below shows the number of people applying for a loan for each category along the x-axis. Each category is split into 4 groups based on the person's home ownership status. As we can see from the graph, the majority of people applying for a loan are either renters or have a mortgage. "
   ]
  },
  {
   "cell_type": "code",
   "execution_count": 68,
   "id": "b78a2cbe",
   "metadata": {},
   "outputs": [
    {
     "data": {
      "text/plain": [
       "<Axes: xlabel='loan_intent', ylabel='count'>"
      ]
     },
     "execution_count": 68,
     "metadata": {},
     "output_type": "execute_result"
    },
    {
     "data": {
      "image/png": "[encoded data removed]",
      "text/plain": [
       "<Figure size 1000x500 with 1 Axes>"
      ]
     },
     "metadata": {},
     "output_type": "display_data"
    }
   ],
   "source": [
    "import seaborn as sns\n",
    "import matplotlib.pyplot as plt\n",
    "\n",
    "countplt, ax  = plt.subplots(figsize=(10, 5))\n",
    "sns.countplot(df_train , x=\"loan_intent\", hue = \"person_home_ownership\" )\n",
    "\n"
   ]
  },
  {
   "cell_type": "markdown",
   "id": "b7a14ffc",
   "metadata": {},
   "source": [
    "The graph below shows the number of people applying for a loan in a certain income range. Each income range is then split into 2 groups: people who have previously defaulted on a loan and people who have not. As we can see from the graph, the majority of people applying for a loan are in the 25k to 80k range. "
   ]
  },
  {
   "cell_type": "code",
   "execution_count": 225,
   "id": "ce08468c",
   "metadata": {},
   "outputs": [
    {
     "data": {
      "text/plain": [
       "<Axes: xlabel='person_income', ylabel='Count'>"
      ]
     },
     "execution_count": 225,
     "metadata": {},
     "output_type": "execute_result"
    },
    {
     "data": {
      "image/png": "[encoded data removed]",
      "text/plain": [
       "<Figure size 640x480 with 1 Axes>"
      ]
     },
     "metadata": {},
     "output_type": "display_data"
    }
   ],
   "source": [
    "plt.xlim(0, 120000)\n",
    "sns.histplot(df_train , x=\"person_income\", hue = \"cb_person_default_on_file\", bins= 1000)"
   ]
  },
  {
   "cell_type": "markdown",
   "id": "df945c97",
   "metadata": {},
   "source": [
    "## Building the Model\n",
    "In this part of our blog post, we will build a model to give a score to each person applying for a loan. Based on the scores, we will then find an optimized threshold that will maximize the total expected profit for the bank."
   ]
  },
  {
   "cell_type": "code",
   "execution_count": 83,
   "id": "ba699f0d",
   "metadata": {},
   "outputs": [],
   "source": [
    "from sklearn.linear_model import LogisticRegression"
   ]
  },
  {
   "cell_type": "markdown",
   "id": "bbfce09a",
   "metadata": {},
   "source": [
    "Below is our definition of our linear scoring function."
   ]
  },
  {
   "cell_type": "code",
   "execution_count": 144,
   "id": "68dffd25",
   "metadata": {},
   "outputs": [],
   "source": [
    "def linear_score(w, X):\n",
    "    return np.dot(w,X.T)"
   ]
  },
  {
   "cell_type": "markdown",
   "id": "9bb98675",
   "metadata": {},
   "source": [
    "Here we add a new column to our dataframe called \"default\" to indicate whether a person has defaulted on a loan or not. This column will be used to replace the \"cb_person_default_on_file\" column."
   ]
  },
  {
   "cell_type": "code",
   "execution_count": 131,
   "id": "3475c25d",
   "metadata": {},
   "outputs": [
    {
     "data": {
      "text/html": [
       "<div>\n",
       "<style scoped>\n",
       "    .dataframe tbody tr th:only-of-type {\n",
       "        vertical-align: middle;\n",
       "    }\n",
       "\n",
       "    .dataframe tbody tr th {\n",
       "        vertical-align: top;\n",
       "    }\n",
       "\n",
       "    .dataframe thead th {\n",
       "        text-align: right;\n",
       "    }\n",
       "</style>\n",
       "<table border=\"1\" class=\"dataframe\">\n",
       "  <thead>\n",
       "    <tr style=\"text-align: right;\">\n",
       "      <th></th>\n",
       "      <th>person_age</th>\n",
       "      <th>person_income</th>\n",
       "      <th>person_home_ownership</th>\n",
       "      <th>person_emp_length</th>\n",
       "      <th>loan_intent</th>\n",
       "      <th>loan_grade</th>\n",
       "      <th>loan_amnt</th>\n",
       "      <th>loan_int_rate</th>\n",
       "      <th>loan_status</th>\n",
       "      <th>loan_percent_income</th>\n",
       "      <th>cb_person_default_on_file</th>\n",
       "      <th>cb_person_cred_hist_length</th>\n",
       "      <th>default</th>\n",
       "    </tr>\n",
       "  </thead>\n",
       "  <tbody>\n",
       "    <tr>\n",
       "      <th>0</th>\n",
       "      <td>25</td>\n",
       "      <td>43200</td>\n",
       "      <td>RENT</td>\n",
       "      <td>NaN</td>\n",
       "      <td>VENTURE</td>\n",
       "      <td>B</td>\n",
       "      <td>1200</td>\n",
       "      <td>9.91</td>\n",
       "      <td>0</td>\n",
       "      <td>0.03</td>\n",
       "      <td>N</td>\n",
       "      <td>4</td>\n",
       "      <td>0</td>\n",
       "    </tr>\n",
       "    <tr>\n",
       "      <th>1</th>\n",
       "      <td>27</td>\n",
       "      <td>98000</td>\n",
       "      <td>RENT</td>\n",
       "      <td>3.0</td>\n",
       "      <td>EDUCATION</td>\n",
       "      <td>C</td>\n",
       "      <td>11750</td>\n",
       "      <td>13.47</td>\n",
       "      <td>0</td>\n",
       "      <td>0.12</td>\n",
       "      <td>Y</td>\n",
       "      <td>6</td>\n",
       "      <td>1</td>\n",
       "    </tr>\n",
       "    <tr>\n",
       "      <th>2</th>\n",
       "      <td>22</td>\n",
       "      <td>36996</td>\n",
       "      <td>RENT</td>\n",
       "      <td>5.0</td>\n",
       "      <td>EDUCATION</td>\n",
       "      <td>A</td>\n",
       "      <td>10000</td>\n",
       "      <td>7.51</td>\n",
       "      <td>0</td>\n",
       "      <td>0.27</td>\n",
       "      <td>N</td>\n",
       "      <td>4</td>\n",
       "      <td>0</td>\n",
       "    </tr>\n",
       "    <tr>\n",
       "      <th>3</th>\n",
       "      <td>24</td>\n",
       "      <td>26000</td>\n",
       "      <td>RENT</td>\n",
       "      <td>2.0</td>\n",
       "      <td>MEDICAL</td>\n",
       "      <td>C</td>\n",
       "      <td>1325</td>\n",
       "      <td>12.87</td>\n",
       "      <td>1</td>\n",
       "      <td>0.05</td>\n",
       "      <td>N</td>\n",
       "      <td>4</td>\n",
       "      <td>0</td>\n",
       "    </tr>\n",
       "    <tr>\n",
       "      <th>4</th>\n",
       "      <td>29</td>\n",
       "      <td>53004</td>\n",
       "      <td>MORTGAGE</td>\n",
       "      <td>2.0</td>\n",
       "      <td>HOMEIMPROVEMENT</td>\n",
       "      <td>A</td>\n",
       "      <td>15000</td>\n",
       "      <td>9.63</td>\n",
       "      <td>0</td>\n",
       "      <td>0.28</td>\n",
       "      <td>N</td>\n",
       "      <td>10</td>\n",
       "      <td>0</td>\n",
       "    </tr>\n",
       "  </tbody>\n",
       "</table>\n",
       "</div>"
      ],
      "text/plain": [
       "   person_age  person_income person_home_ownership  person_emp_length  \\\n",
       "0          25          43200                  RENT                NaN   \n",
       "1          27          98000                  RENT                3.0   \n",
       "2          22          36996                  RENT                5.0   \n",
       "3          24          26000                  RENT                2.0   \n",
       "4          29          53004              MORTGAGE                2.0   \n",
       "\n",
       "       loan_intent loan_grade  loan_amnt  loan_int_rate  loan_status  \\\n",
       "0          VENTURE          B       1200           9.91            0   \n",
       "1        EDUCATION          C      11750          13.47            0   \n",
       "2        EDUCATION          A      10000           7.51            0   \n",
       "3          MEDICAL          C       1325          12.87            1   \n",
       "4  HOMEIMPROVEMENT          A      15000           9.63            0   \n",
       "\n",
       "   loan_percent_income cb_person_default_on_file  cb_person_cred_hist_length  \\\n",
       "0                 0.03                         N                           4   \n",
       "1                 0.12                         Y                           6   \n",
       "2                 0.27                         N                           4   \n",
       "3                 0.05                         N                           4   \n",
       "4                 0.28                         N                          10   \n",
       "\n",
       "   default  \n",
       "0        0  \n",
       "1        1  \n",
       "2        0  \n",
       "3        0  \n",
       "4        0  "
      ]
     },
     "execution_count": 131,
     "metadata": {},
     "output_type": "execute_result"
    }
   ],
   "source": [
    "df_train[\"default\"] = df_train['cb_person_default_on_file'].apply(lambda x: 1 if x == \"Y\" else 0)\n",
    "df_train.head()"
   ]
  },
  {
   "cell_type": "markdown",
   "id": "37c17385",
   "metadata": {},
   "source": [
    "The create_training_data function takes a dataframe and drops the columns that we are not using and also drops any rows with Nan values. It returns an array of features and the target variable."
   ]
  },
  {
   "cell_type": "code",
   "execution_count": 132,
   "id": "246bcf46",
   "metadata": {},
   "outputs": [],
   "source": [
    "def create_training_data(df):\n",
    "    df = df.dropna()\n",
    "    X = df.drop(columns=[\"loan_grade\", \"person_home_ownership\",\"cb_person_default_on_file\", \"loan_intent\"])\n",
    "    y = df[\"loan_status\"].values\n",
    "    X = X.drop(columns=[\"loan_status\"]).values\n",
    "    return X, y\n",
    "X_train, y_train = create_training_data(df_train)"
   ]
  },
  {
   "cell_type": "markdown",
   "id": "288f2d10",
   "metadata": {},
   "source": [
    "We will be using the LogisticRegression class from the sklearn library to determine our weight vector. "
   ]
  },
  {
   "cell_type": "code",
   "execution_count": 133,
   "id": "23e2a818",
   "metadata": {},
   "outputs": [
    {
     "name": "stderr",
     "output_type": "stream",
     "text": [
      "c:\\Users\\robsa\\anaconda3\\envs\\ml-451\\lib\\site-packages\\sklearn\\linear_model\\_logistic.py:465: ConvergenceWarning: lbfgs failed to converge (status=1):\n",
      "STOP: TOTAL NO. of ITERATIONS REACHED LIMIT.\n",
      "\n",
      "Increase the number of iterations (max_iter) or scale the data as shown in:\n",
      "    https://scikit-learn.org/stable/modules/preprocessing.html\n",
      "Please also refer to the documentation for alternative solver options:\n",
      "    https://scikit-learn.org/stable/modules/linear_model.html#logistic-regression\n",
      "  n_iter_i = _check_optimize_result(\n"
     ]
    },
    {
     "data": {
      "text/html": [
       "<style>#sk-container-id-3 {\n",
       "  /* Definition of color scheme common for light and dark mode */\n",
       "  --sklearn-color-text: #000;\n",
       "  --sklearn-color-text-muted: #666;\n",
       "  --sklearn-color-line: gray;\n",
       "  /* Definition of color scheme for unfitted estimators */\n",
       "  --sklearn-color-unfitted-level-0: #fff5e6;\n",
       "  --sklearn-color-unfitted-level-1: #f6e4d2;\n",
       "  --sklearn-color-unfitted-level-2: #ffe0b3;\n",
       "  --sklearn-color-unfitted-level-3: chocolate;\n",
       "  /* Definition of color scheme for fitted estimators */\n",
       "  --sklearn-color-fitted-level-0: #f0f8ff;\n",
       "  --sklearn-color-fitted-level-1: #d4ebff;\n",
       "  --sklearn-color-fitted-level-2: #b3dbfd;\n",
       "  --sklearn-color-fitted-level-3: cornflowerblue;\n",
       "\n",
       "  /* Specific color for light theme */\n",
       "  --sklearn-color-text-on-default-background: var(--sg-text-color, var(--theme-code-foreground, var(--jp-content-font-color1, black)));\n",
       "  --sklearn-color-background: var(--sg-background-color, var(--theme-background, var(--jp-layout-color0, white)));\n",
       "  --sklearn-color-border-box: var(--sg-text-color, var(--theme-code-foreground, var(--jp-content-font-color1, black)));\n",
       "  --sklearn-color-icon: #696969;\n",
       "\n",
       "  @media (prefers-color-scheme: dark) {\n",
       "    /* Redefinition of color scheme for dark theme */\n",
       "    --sklearn-color-text-on-default-background: var(--sg-text-color, var(--theme-code-foreground, var(--jp-content-font-color1, white)));\n",
       "    --sklearn-color-background: var(--sg-background-color, var(--theme-background, var(--jp-layout-color0, #111)));\n",
       "    --sklearn-color-border-box: var(--sg-text-color, var(--theme-code-foreground, var(--jp-content-font-color1, white)));\n",
       "    --sklearn-color-icon: #878787;\n",
       "  }\n",
       "}\n",
       "\n",
       "#sk-container-id-3 {\n",
       "  color: var(--sklearn-color-text);\n",
       "}\n",
       "\n",
       "#sk-container-id-3 pre {\n",
       "  padding: 0;\n",
       "}\n",
       "\n",
       "#sk-container-id-3 input.sk-hidden--visually {\n",
       "  border: 0;\n",
       "  clip: rect(1px 1px 1px 1px);\n",
       "  clip: rect(1px, 1px, 1px, 1px);\n",
       "  height: 1px;\n",
       "  margin: -1px;\n",
       "  overflow: hidden;\n",
       "  padding: 0;\n",
       "  position: absolute;\n",
       "  width: 1px;\n",
       "}\n",
       "\n",
       "#sk-container-id-3 div.sk-dashed-wrapped {\n",
       "  border: 1px dashed var(--sklearn-color-line);\n",
       "  margin: 0 0.4em 0.5em 0.4em;\n",
       "  box-sizing: border-box;\n",
       "  padding-bottom: 0.4em;\n",
       "  background-color: var(--sklearn-color-background);\n",
       "}\n",
       "\n",
       "#sk-container-id-3 div.sk-container {\n",
       "  /* jupyter's `normalize.less` sets `[hidden] { display: none; }`\n",
       "     but bootstrap.min.css set `[hidden] { display: none !important; }`\n",
       "     so we also need the `!important` here to be able to override the\n",
       "     default hidden behavior on the sphinx rendered scikit-learn.org.\n",
       "     See: https://github.com/scikit-learn/scikit-learn/issues/21755 */\n",
       "  display: inline-block !important;\n",
       "  position: relative;\n",
       "}\n",
       "\n",
       "#sk-container-id-3 div.sk-text-repr-fallback {\n",
       "  display: none;\n",
       "}\n",
       "\n",
       "div.sk-parallel-item,\n",
       "div.sk-serial,\n",
       "div.sk-item {\n",
       "  /* draw centered vertical line to link estimators */\n",
       "  background-image: linear-gradient(var(--sklearn-color-text-on-default-background), var(--sklearn-color-text-on-default-background));\n",
       "  background-size: 2px 100%;\n",
       "  background-repeat: no-repeat;\n",
       "  background-position: center center;\n",
       "}\n",
       "\n",
       "/* Parallel-specific style estimator block */\n",
       "\n",
       "#sk-container-id-3 div.sk-parallel-item::after {\n",
       "  content: \"\";\n",
       "  width: 100%;\n",
       "  border-bottom: 2px solid var(--sklearn-color-text-on-default-background);\n",
       "  flex-grow: 1;\n",
       "}\n",
       "\n",
       "#sk-container-id-3 div.sk-parallel {\n",
       "  display: flex;\n",
       "  align-items: stretch;\n",
       "  justify-content: center;\n",
       "  background-color: var(--sklearn-color-background);\n",
       "  position: relative;\n",
       "}\n",
       "\n",
       "#sk-container-id-3 div.sk-parallel-item {\n",
       "  display: flex;\n",
       "  flex-direction: column;\n",
       "}\n",
       "\n",
       "#sk-container-id-3 div.sk-parallel-item:first-child::after {\n",
       "  align-self: flex-end;\n",
       "  width: 50%;\n",
       "}\n",
       "\n",
       "#sk-container-id-3 div.sk-parallel-item:last-child::after {\n",
       "  align-self: flex-start;\n",
       "  width: 50%;\n",
       "}\n",
       "\n",
       "#sk-container-id-3 div.sk-parallel-item:only-child::after {\n",
       "  width: 0;\n",
       "}\n",
       "\n",
       "/* Serial-specific style estimator block */\n",
       "\n",
       "#sk-container-id-3 div.sk-serial {\n",
       "  display: flex;\n",
       "  flex-direction: column;\n",
       "  align-items: center;\n",
       "  background-color: var(--sklearn-color-background);\n",
       "  padding-right: 1em;\n",
       "  padding-left: 1em;\n",
       "}\n",
       "\n",
       "\n",
       "/* Toggleable style: style used for estimator/Pipeline/ColumnTransformer box that is\n",
       "clickable and can be expanded/collapsed.\n",
       "- Pipeline and ColumnTransformer use this feature and define the default style\n",
       "- Estimators will overwrite some part of the style using the `sk-estimator` class\n",
       "*/\n",
       "\n",
       "/* Pipeline and ColumnTransformer style (default) */\n",
       "\n",
       "#sk-container-id-3 div.sk-toggleable {\n",
       "  /* Default theme specific background. It is overwritten whether we have a\n",
       "  specific estimator or a Pipeline/ColumnTransformer */\n",
       "  background-color: var(--sklearn-color-background);\n",
       "}\n",
       "\n",
       "/* Toggleable label */\n",
       "#sk-container-id-3 label.sk-toggleable__label {\n",
       "  cursor: pointer;\n",
       "  display: flex;\n",
       "  width: 100%;\n",
       "  margin-bottom: 0;\n",
       "  padding: 0.5em;\n",
       "  box-sizing: border-box;\n",
       "  text-align: center;\n",
       "  align-items: start;\n",
       "  justify-content: space-between;\n",
       "  gap: 0.5em;\n",
       "}\n",
       "\n",
       "#sk-container-id-3 label.sk-toggleable__label .caption {\n",
       "  font-size: 0.6rem;\n",
       "  font-weight: lighter;\n",
       "  color: var(--sklearn-color-text-muted);\n",
       "}\n",
       "\n",
       "#sk-container-id-3 label.sk-toggleable__label-arrow:before {\n",
       "  /* Arrow on the left of the label */\n",
       "  content: \"▸\";\n",
       "  float: left;\n",
       "  margin-right: 0.25em;\n",
       "  color: var(--sklearn-color-icon);\n",
       "}\n",
       "\n",
       "#sk-container-id-3 label.sk-toggleable__label-arrow:hover:before {\n",
       "  color: var(--sklearn-color-text);\n",
       "}\n",
       "\n",
       "/* Toggleable content - dropdown */\n",
       "\n",
       "#sk-container-id-3 div.sk-toggleable__content {\n",
       "  max-height: 0;\n",
       "  max-width: 0;\n",
       "  overflow: hidden;\n",
       "  text-align: left;\n",
       "  /* unfitted */\n",
       "  background-color: var(--sklearn-color-unfitted-level-0);\n",
       "}\n",
       "\n",
       "#sk-container-id-3 div.sk-toggleable__content.fitted {\n",
       "  /* fitted */\n",
       "  background-color: var(--sklearn-color-fitted-level-0);\n",
       "}\n",
       "\n",
       "#sk-container-id-3 div.sk-toggleable__content pre {\n",
       "  margin: 0.2em;\n",
       "  border-radius: 0.25em;\n",
       "  color: var(--sklearn-color-text);\n",
       "  /* unfitted */\n",
       "  background-color: var(--sklearn-color-unfitted-level-0);\n",
       "}\n",
       "\n",
       "#sk-container-id-3 div.sk-toggleable__content.fitted pre {\n",
       "  /* unfitted */\n",
       "  background-color: var(--sklearn-color-fitted-level-0);\n",
       "}\n",
       "\n",
       "#sk-container-id-3 input.sk-toggleable__control:checked~div.sk-toggleable__content {\n",
       "  /* Expand drop-down */\n",
       "  max-height: 200px;\n",
       "  max-width: 100%;\n",
       "  overflow: auto;\n",
       "}\n",
       "\n",
       "#sk-container-id-3 input.sk-toggleable__control:checked~label.sk-toggleable__label-arrow:before {\n",
       "  content: \"▾\";\n",
       "}\n",
       "\n",
       "/* Pipeline/ColumnTransformer-specific style */\n",
       "\n",
       "#sk-container-id-3 div.sk-label input.sk-toggleable__control:checked~label.sk-toggleable__label {\n",
       "  color: var(--sklearn-color-text);\n",
       "  background-color: var(--sklearn-color-unfitted-level-2);\n",
       "}\n",
       "\n",
       "#sk-container-id-3 div.sk-label.fitted input.sk-toggleable__control:checked~label.sk-toggleable__label {\n",
       "  background-color: var(--sklearn-color-fitted-level-2);\n",
       "}\n",
       "\n",
       "/* Estimator-specific style */\n",
       "\n",
       "/* Colorize estimator box */\n",
       "#sk-container-id-3 div.sk-estimator input.sk-toggleable__control:checked~label.sk-toggleable__label {\n",
       "  /* unfitted */\n",
       "  background-color: var(--sklearn-color-unfitted-level-2);\n",
       "}\n",
       "\n",
       "#sk-container-id-3 div.sk-estimator.fitted input.sk-toggleable__control:checked~label.sk-toggleable__label {\n",
       "  /* fitted */\n",
       "  background-color: var(--sklearn-color-fitted-level-2);\n",
       "}\n",
       "\n",
       "#sk-container-id-3 div.sk-label label.sk-toggleable__label,\n",
       "#sk-container-id-3 div.sk-label label {\n",
       "  /* The background is the default theme color */\n",
       "  color: var(--sklearn-color-text-on-default-background);\n",
       "}\n",
       "\n",
       "/* On hover, darken the color of the background */\n",
       "#sk-container-id-3 div.sk-label:hover label.sk-toggleable__label {\n",
       "  color: var(--sklearn-color-text);\n",
       "  background-color: var(--sklearn-color-unfitted-level-2);\n",
       "}\n",
       "\n",
       "/* Label box, darken color on hover, fitted */\n",
       "#sk-container-id-3 div.sk-label.fitted:hover label.sk-toggleable__label.fitted {\n",
       "  color: var(--sklearn-color-text);\n",
       "  background-color: var(--sklearn-color-fitted-level-2);\n",
       "}\n",
       "\n",
       "/* Estimator label */\n",
       "\n",
       "#sk-container-id-3 div.sk-label label {\n",
       "  font-family: monospace;\n",
       "  font-weight: bold;\n",
       "  display: inline-block;\n",
       "  line-height: 1.2em;\n",
       "}\n",
       "\n",
       "#sk-container-id-3 div.sk-label-container {\n",
       "  text-align: center;\n",
       "}\n",
       "\n",
       "/* Estimator-specific */\n",
       "#sk-container-id-3 div.sk-estimator {\n",
       "  font-family: monospace;\n",
       "  border: 1px dotted var(--sklearn-color-border-box);\n",
       "  border-radius: 0.25em;\n",
       "  box-sizing: border-box;\n",
       "  margin-bottom: 0.5em;\n",
       "  /* unfitted */\n",
       "  background-color: var(--sklearn-color-unfitted-level-0);\n",
       "}\n",
       "\n",
       "#sk-container-id-3 div.sk-estimator.fitted {\n",
       "  /* fitted */\n",
       "  background-color: var(--sklearn-color-fitted-level-0);\n",
       "}\n",
       "\n",
       "/* on hover */\n",
       "#sk-container-id-3 div.sk-estimator:hover {\n",
       "  /* unfitted */\n",
       "  background-color: var(--sklearn-color-unfitted-level-2);\n",
       "}\n",
       "\n",
       "#sk-container-id-3 div.sk-estimator.fitted:hover {\n",
       "  /* fitted */\n",
       "  background-color: var(--sklearn-color-fitted-level-2);\n",
       "}\n",
       "\n",
       "/* Specification for estimator info (e.g. \"i\" and \"?\") */\n",
       "\n",
       "/* Common style for \"i\" and \"?\" */\n",
       "\n",
       ".sk-estimator-doc-link,\n",
       "a:link.sk-estimator-doc-link,\n",
       "a:visited.sk-estimator-doc-link {\n",
       "  float: right;\n",
       "  font-size: smaller;\n",
       "  line-height: 1em;\n",
       "  font-family: monospace;\n",
       "  background-color: var(--sklearn-color-background);\n",
       "  border-radius: 1em;\n",
       "  height: 1em;\n",
       "  width: 1em;\n",
       "  text-decoration: none !important;\n",
       "  margin-left: 0.5em;\n",
       "  text-align: center;\n",
       "  /* unfitted */\n",
       "  border: var(--sklearn-color-unfitted-level-1) 1pt solid;\n",
       "  color: var(--sklearn-color-unfitted-level-1);\n",
       "}\n",
       "\n",
       ".sk-estimator-doc-link.fitted,\n",
       "a:link.sk-estimator-doc-link.fitted,\n",
       "a:visited.sk-estimator-doc-link.fitted {\n",
       "  /* fitted */\n",
       "  border: var(--sklearn-color-fitted-level-1) 1pt solid;\n",
       "  color: var(--sklearn-color-fitted-level-1);\n",
       "}\n",
       "\n",
       "/* On hover */\n",
       "div.sk-estimator:hover .sk-estimator-doc-link:hover,\n",
       ".sk-estimator-doc-link:hover,\n",
       "div.sk-label-container:hover .sk-estimator-doc-link:hover,\n",
       ".sk-estimator-doc-link:hover {\n",
       "  /* unfitted */\n",
       "  background-color: var(--sklearn-color-unfitted-level-3);\n",
       "  color: var(--sklearn-color-background);\n",
       "  text-decoration: none;\n",
       "}\n",
       "\n",
       "div.sk-estimator.fitted:hover .sk-estimator-doc-link.fitted:hover,\n",
       ".sk-estimator-doc-link.fitted:hover,\n",
       "div.sk-label-container:hover .sk-estimator-doc-link.fitted:hover,\n",
       ".sk-estimator-doc-link.fitted:hover {\n",
       "  /* fitted */\n",
       "  background-color: var(--sklearn-color-fitted-level-3);\n",
       "  color: var(--sklearn-color-background);\n",
       "  text-decoration: none;\n",
       "}\n",
       "\n",
       "/* Span, style for the box shown on hovering the info icon */\n",
       ".sk-estimator-doc-link span {\n",
       "  display: none;\n",
       "  z-index: 9999;\n",
       "  position: relative;\n",
       "  font-weight: normal;\n",
       "  right: .2ex;\n",
       "  padding: .5ex;\n",
       "  margin: .5ex;\n",
       "  width: min-content;\n",
       "  min-width: 20ex;\n",
       "  max-width: 50ex;\n",
       "  color: var(--sklearn-color-text);\n",
       "  box-shadow: 2pt 2pt 4pt #999;\n",
       "  /* unfitted */\n",
       "  background: var(--sklearn-color-unfitted-level-0);\n",
       "  border: .5pt solid var(--sklearn-color-unfitted-level-3);\n",
       "}\n",
       "\n",
       ".sk-estimator-doc-link.fitted span {\n",
       "  /* fitted */\n",
       "  background: var(--sklearn-color-fitted-level-0);\n",
       "  border: var(--sklearn-color-fitted-level-3);\n",
       "}\n",
       "\n",
       ".sk-estimator-doc-link:hover span {\n",
       "  display: block;\n",
       "}\n",
       "\n",
       "/* \"?\"-specific style due to the `<a>` HTML tag */\n",
       "\n",
       "#sk-container-id-3 a.estimator_doc_link {\n",
       "  float: right;\n",
       "  font-size: 1rem;\n",
       "  line-height: 1em;\n",
       "  font-family: monospace;\n",
       "  background-color: var(--sklearn-color-background);\n",
       "  border-radius: 1rem;\n",
       "  height: 1rem;\n",
       "  width: 1rem;\n",
       "  text-decoration: none;\n",
       "  /* unfitted */\n",
       "  color: var(--sklearn-color-unfitted-level-1);\n",
       "  border: var(--sklearn-color-unfitted-level-1) 1pt solid;\n",
       "}\n",
       "\n",
       "#sk-container-id-3 a.estimator_doc_link.fitted {\n",
       "  /* fitted */\n",
       "  border: var(--sklearn-color-fitted-level-1) 1pt solid;\n",
       "  color: var(--sklearn-color-fitted-level-1);\n",
       "}\n",
       "\n",
       "/* On hover */\n",
       "#sk-container-id-3 a.estimator_doc_link:hover {\n",
       "  /* unfitted */\n",
       "  background-color: var(--sklearn-color-unfitted-level-3);\n",
       "  color: var(--sklearn-color-background);\n",
       "  text-decoration: none;\n",
       "}\n",
       "\n",
       "#sk-container-id-3 a.estimator_doc_link.fitted:hover {\n",
       "  /* fitted */\n",
       "  background-color: var(--sklearn-color-fitted-level-3);\n",
       "}\n",
       "</style><div id=\"sk-container-id-3\" class=\"sk-top-container\"><div class=\"sk-text-repr-fallback\"><pre>LogisticRegression()</pre><b>In a Jupyter environment, please rerun this cell to show the HTML representation or trust the notebook. <br />On GitHub, the HTML representation is unable to render, please try loading this page with nbviewer.org.</b></div><div class=\"sk-container\" hidden><div class=\"sk-item\"><div class=\"sk-estimator fitted sk-toggleable\"><input class=\"sk-toggleable__control sk-hidden--visually\" id=\"sk-estimator-id-3\" type=\"checkbox\" checked><label for=\"sk-estimator-id-3\" class=\"sk-toggleable__label fitted sk-toggleable__label-arrow\"><div><div>LogisticRegression</div></div><div><a class=\"sk-estimator-doc-link fitted\" rel=\"noreferrer\" target=\"_blank\" href=\"https://scikit-learn.org/1.6/modules/generated/sklearn.linear_model.LogisticRegression.html\">?<span>Documentation for LogisticRegression</span></a><span class=\"sk-estimator-doc-link fitted\">i<span>Fitted</span></span></div></label><div class=\"sk-toggleable__content fitted\"><pre>LogisticRegression()</pre></div> </div></div></div></div>"
      ],
      "text/plain": [
       "LogisticRegression()"
      ]
     },
     "execution_count": 133,
     "metadata": {},
     "output_type": "execute_result"
    }
   ],
   "source": [
    "model = LogisticRegression()\n",
    "model.fit(X_train, y_train)\n"
   ]
  },
  {
   "cell_type": "markdown",
   "id": "bb880a81",
   "metadata": {},
   "source": [
    "Here is the weight vector for our model."
   ]
  },
  {
   "cell_type": "code",
   "execution_count": 226,
   "id": "e251a078",
   "metadata": {},
   "outputs": [
    {
     "data": {
      "text/plain": [
       "array([[-1.28483263e-01, -3.60156986e-05, -2.12789100e-02,\n",
       "         1.01632099e-04,  2.20494428e-01,  6.47158286e-03,\n",
       "         1.44630472e-01,  3.56015601e-02]])"
      ]
     },
     "execution_count": 226,
     "metadata": {},
     "output_type": "execute_result"
    }
   ],
   "source": [
    "w = model.coef_\n",
    "w"
   ]
  },
  {
   "cell_type": "markdown",
   "id": "86096aff",
   "metadata": {},
   "source": [
    "Now lets use our weights to calculate the score for each person applying for a loan."
   ]
  },
  {
   "cell_type": "code",
   "execution_count": 228,
   "id": "43bc56a2",
   "metadata": {},
   "outputs": [
    {
     "data": {
      "text/plain": [
       "array([-1.99402521, -1.01295976, -0.51129301, ..., -0.30096269,\n",
       "       -1.78451565, -1.11115349])"
      ]
     },
     "execution_count": 228,
     "metadata": {},
     "output_type": "execute_result"
    }
   ],
   "source": [
    "s = linear_score(model.coef_, X_train)\n",
    "s=s[0]\n",
    "s"
   ]
  },
  {
   "cell_type": "markdown",
   "id": "619f7dfa",
   "metadata": {},
   "source": [
    "In the graph below, we can see the distribution of the scores for each potential loan. We can see taht most scores fall within the range of -4 and 0. "
   ]
  },
  {
   "cell_type": "code",
   "execution_count": 229,
   "id": "cdf8664d",
   "metadata": {},
   "outputs": [
    {
     "data": {
      "text/plain": [
       "(-10.0, 5.0)"
      ]
     },
     "execution_count": 229,
     "metadata": {},
     "output_type": "execute_result"
    },
    {
     "data": {
      "image/png": "[encoded data removed]",
      "text/plain": [
       "<Figure size 600x400 with 1 Axes>"
      ]
     },
     "metadata": {},
     "output_type": "display_data"
    }
   ],
   "source": [
    "fig, ax = plt.subplots(1, 1, figsize = (6, 4))\n",
    "hist = ax.hist(s, bins = 1000, color = \"steelblue\", alpha = 0.6, linewidth = 1, edgecolor = \"black\")\n",
    "labs = ax.set(xlabel = r\"Score $s$\", ylabel = \"Frequency\")\n",
    "plt.xlim(-10, 5)"
   ]
  },
  {
   "cell_type": "markdown",
   "id": "f4ca933c",
   "metadata": {},
   "source": [
    "Here we set the threshold to -1.0 and determin whether a person is likely to default on a loan or not. In the cell below that, we see that about 34% of people are predicted to default with this threshold."
   ]
  },
  {
   "cell_type": "code",
   "execution_count": 169,
   "id": "9a5efce8",
   "metadata": {},
   "outputs": [
    {
     "data": {
      "text/plain": [
       "array([False, False,  True, ...,  True, False, False])"
      ]
     },
     "execution_count": 169,
     "metadata": {},
     "output_type": "execute_result"
    }
   ],
   "source": [
    "t = -1.0\n",
    "preds = s >= t\n",
    "preds"
   ]
  },
  {
   "cell_type": "code",
   "execution_count": 171,
   "id": "2ee83a04",
   "metadata": {},
   "outputs": [
    {
     "data": {
      "text/plain": [
       "0.3425590430872659"
      ]
     },
     "execution_count": 171,
     "metadata": {},
     "output_type": "execute_result"
    }
   ],
   "source": [
    "preds.mean()"
   ]
  },
  {
   "cell_type": "markdown",
   "id": "68f87010",
   "metadata": {},
   "source": [
    "In the cells below, we calculate the average loan amount and the average interest rate for each loan and we calculate the average expected profit for a loan. "
   ]
  },
  {
   "cell_type": "code",
   "execution_count": 180,
   "id": "2b2f5bee",
   "metadata": {},
   "outputs": [
    {
     "data": {
      "text/plain": [
       "9569.46842387968"
      ]
     },
     "execution_count": 180,
     "metadata": {},
     "output_type": "execute_result"
    }
   ],
   "source": [
    "avg_loan =df_train[\"loan_amnt\"].values.mean()\n",
    "avg_loan"
   ]
  },
  {
   "cell_type": "code",
   "execution_count": 179,
   "id": "4e350afe",
   "metadata": {},
   "outputs": [
    {
     "data": {
      "text/plain": [
       "11.009372400916574"
      ]
     },
     "execution_count": 179,
     "metadata": {},
     "output_type": "execute_result"
    }
   ],
   "source": [
    "int = df_train[\"loan_int_rate\"].dropna()\n",
    "avg_int = int.values.mean()\n",
    "avg_int"
   ]
  },
  {
   "cell_type": "code",
   "execution_count": 230,
   "id": "7e6f923d",
   "metadata": {},
   "outputs": [
    {
     "data": {
      "text/plain": [
       "2985.1973093790166"
      ]
     },
     "execution_count": 230,
     "metadata": {},
     "output_type": "execute_result"
    }
   ],
   "source": [
    "def tn_form(loan, int_rate):\n",
    "    return loan*(1 + 0.25*int_rate/100)**10 - loan\n",
    "avg_tn_profit = tn_form(avg_loan, avg_int)\n",
    "avg_tn_profit\n"
   ]
  },
  {
   "cell_type": "code",
   "execution_count": 231,
   "id": "08788dba",
   "metadata": {},
   "outputs": [
    {
     "data": {
      "text/plain": [
       "-5886.526816942651"
      ]
     },
     "execution_count": 231,
     "metadata": {},
     "output_type": "execute_result"
    }
   ],
   "source": [
    "def fn_form(loan, int_rate):\n",
    "    return loan*(1 + 0.25*int_rate/100)**3 - 1.7*loan\n",
    "avg_fn_profit = fn_form(avg_loan, avg_int)\n",
    "avg_fn_profit\n"
   ]
  },
  {
   "cell_type": "markdown",
   "id": "251bfbe9",
   "metadata": {},
   "source": [
    "On average, the bank will make a profit of about $3,000 for each true negative prediction, and losses about $6,000 for each false positive prediction. So it will take about 2 true negatives to make up for 1 false positive, but since we want to make a profit, we will say that we need 3 true negatives to make up for 1 false positive."
   ]
  },
  {
   "cell_type": "code",
   "execution_count": 232,
   "id": "cec59df3",
   "metadata": {},
   "outputs": [
    {
     "data": {
      "text/plain": [
       "-0.5071237084637068"
      ]
     },
     "execution_count": 232,
     "metadata": {},
     "output_type": "execute_result"
    }
   ],
   "source": [
    "avg_tn_profit/avg_fn_profit"
   ]
  },
  {
   "cell_type": "markdown",
   "id": "09e35672",
   "metadata": {},
   "source": [
    "The graph below shows the accuracy of our model based on what the threshold is set to. As we can see the model is at its most accurate when the threshold is set to 0.08. "
   ]
  },
  {
   "cell_type": "code",
   "execution_count": 173,
   "id": "c98b2ecd",
   "metadata": {},
   "outputs": [
    {
     "data": {
      "image/png": "[encoded data removed]",
      "text/plain": [
       "<Figure size 600x400 with 1 Axes>"
      ]
     },
     "metadata": {},
     "output_type": "display_data"
    }
   ],
   "source": [
    "best_accuracy = 0\n",
    "best_threshold = 0\n",
    "\n",
    "fig, ax = plt.subplots(1, 1, figsize = (6, 4))\n",
    "for t in np.linspace(-10, 4, 101): \n",
    "    y_pred = s >= t\n",
    "    acc = (y_pred == y_train).mean()\n",
    "    ax.scatter(t, acc, color = \"steelblue\", s = 10)\n",
    "    if acc > best_accuracy: \n",
    "        best_accuracy = acc\n",
    "        best_threshold = t\n",
    "ax.axvline(best_threshold, linestyle = \"--\", color = \"grey\", zorder = -10)\n",
    "labs = ax.set(xlabel = r\"Threshold $t$\", ylabel = \"Accuracy\", title = f\"Best accuracy {best_accuracy:.3f} at best threshold t = {best_threshold:.3f}\")"
   ]
  },
  {
   "cell_type": "markdown",
   "id": "eb6b63d8",
   "metadata": {},
   "source": [
    "In this graph we introduce the bias for reducing the number of false positives. "
   ]
  },
  {
   "cell_type": "code",
   "execution_count": 235,
   "id": "9f98f4fc",
   "metadata": {},
   "outputs": [
    {
     "data": {
      "image/png": "[encoded data removed]",
      "text/plain": [
       "<Figure size 600x400 with 1 Axes>"
      ]
     },
     "metadata": {},
     "output_type": "display_data"
    }
   ],
   "source": [
    "best_benefit = 0\n",
    "best_threshold = 0\n",
    "\n",
    "c = 1\n",
    "C = 3\n",
    "\n",
    "fig, ax = plt.subplots(1, 1, figsize = (6, 4))\n",
    "for t in np.linspace(-10, 5, 101): \n",
    "    y_pred = s >= t\n",
    "    tn = ((y_pred == 0) & (y_train == 0)).mean()\n",
    "    fn = ((y_pred == 0) & (y_train == 1)).mean()\n",
    "    benefit = c*tn - C*fn\n",
    "    ax.scatter(t, benefit, color = \"steelblue\", s = 10)\n",
    "    if benefit > best_benefit: \n",
    "        best_benefit = benefit\n",
    "        best_threshold = t\n",
    "\n",
    "ax.axvline(best_threshold, linestyle = \"--\", color = \"grey\", zorder = -10)\n",
    "labs = ax.set(xlabel = r\"Threshold $t$\", ylabel = \"Net benefit\", title = f\"Best benefit ${best_benefit:.2f} at best threshold t = {best_threshold:.3f}\")"
   ]
  },
  {
   "cell_type": "markdown",
   "id": "8e585da2",
   "metadata": {},
   "source": [
    "## Evaluating the Model\n",
    "Now we will evaluate our model on test data. We will use the same scoring function and threshold that we used to train our model."
   ]
  },
  {
   "cell_type": "code",
   "execution_count": 200,
   "id": "2eab6b8d",
   "metadata": {},
   "outputs": [],
   "source": [
    "url = \"https://raw.githubusercontent.com/PhilChodrow/ml-notes/main/data/credit-risk/test.csv\"\n",
    "df_test = pd.read_csv(url)"
   ]
  },
  {
   "cell_type": "markdown",
   "id": "09ba485f",
   "metadata": {},
   "source": [
    "Again, we are making a new column for whether a person has defaulted on a loan or not in the past."
   ]
  },
  {
   "cell_type": "code",
   "execution_count": 210,
   "id": "9e6fc30f",
   "metadata": {},
   "outputs": [],
   "source": [
    "df_test[\"default\"] = df_test['cb_person_default_on_file'].apply(lambda x: 1 if x == \"Y\" else 0)"
   ]
  },
  {
   "cell_type": "code",
   "execution_count": 247,
   "id": "68b8c5c2",
   "metadata": {},
   "outputs": [
    {
     "data": {
      "text/plain": [
       "0.2727272727272727"
      ]
     },
     "execution_count": 247,
     "metadata": {},
     "output_type": "execute_result"
    }
   ],
   "source": [
    "X_test, y_test = create_training_data(df_test)\n",
    "\n",
    "t = -0.70\n",
    "\n",
    "s_test = linear_score(w, X_test)\n",
    "\n",
    "preds_test = s_test >= t\n",
    "preds_test.mean()\n"
   ]
  },
  {
   "cell_type": "markdown",
   "id": "2206a451",
   "metadata": {},
   "source": [
    "The results on the testing data are very similar to the results on the training data."
   ]
  },
  {
   "cell_type": "code",
   "execution_count": 246,
   "id": "be8a926c",
   "metadata": {},
   "outputs": [
    {
     "data": {
      "text/plain": [
       "0.3936485779096144"
      ]
     },
     "execution_count": 246,
     "metadata": {},
     "output_type": "execute_result"
    }
   ],
   "source": [
    "\n",
    "FN   = ((preds_test == 0) & (y_test == 1)).mean() \n",
    "TN   = ((preds_test == 0) & (y_test == 0)).mean() \n",
    "\n",
    "gain = gain = c*TN  - C*FN\n",
    "gain"
   ]
  },
  {
   "cell_type": "markdown",
   "id": "d4c79031",
   "metadata": {},
   "source": [
    "In this section we will evaluate our model and see if a person's age plays a role in whether they are negatively impacted by our model. In the cells below, we make a dataframe containing people who are age 30 and under and check to see if they are disproportionately flagged as likely to default on a loan."
   ]
  },
  {
   "cell_type": "code",
   "execution_count": 257,
   "id": "ef59e5df",
   "metadata": {},
   "outputs": [
    {
     "data": {
      "text/html": [
       "<div>\n",
       "<style scoped>\n",
       "    .dataframe tbody tr th:only-of-type {\n",
       "        vertical-align: middle;\n",
       "    }\n",
       "\n",
       "    .dataframe tbody tr th {\n",
       "        vertical-align: top;\n",
       "    }\n",
       "\n",
       "    .dataframe thead th {\n",
       "        text-align: right;\n",
       "    }\n",
       "</style>\n",
       "<table border=\"1\" class=\"dataframe\">\n",
       "  <thead>\n",
       "    <tr style=\"text-align: right;\">\n",
       "      <th></th>\n",
       "      <th>person_age</th>\n",
       "      <th>person_income</th>\n",
       "      <th>person_home_ownership</th>\n",
       "      <th>person_emp_length</th>\n",
       "      <th>loan_intent</th>\n",
       "      <th>loan_grade</th>\n",
       "      <th>loan_amnt</th>\n",
       "      <th>loan_int_rate</th>\n",
       "      <th>loan_status</th>\n",
       "      <th>loan_percent_income</th>\n",
       "      <th>cb_person_default_on_file</th>\n",
       "      <th>cb_person_cred_hist_length</th>\n",
       "      <th>default</th>\n",
       "    </tr>\n",
       "  </thead>\n",
       "  <tbody>\n",
       "    <tr>\n",
       "      <th>0</th>\n",
       "      <td>21</td>\n",
       "      <td>42000</td>\n",
       "      <td>RENT</td>\n",
       "      <td>5.0</td>\n",
       "      <td>VENTURE</td>\n",
       "      <td>D</td>\n",
       "      <td>1000</td>\n",
       "      <td>15.58</td>\n",
       "      <td>1</td>\n",
       "      <td>0.02</td>\n",
       "      <td>N</td>\n",
       "      <td>4</td>\n",
       "      <td>0</td>\n",
       "    </tr>\n",
       "    <tr>\n",
       "      <th>3</th>\n",
       "      <td>28</td>\n",
       "      <td>66300</td>\n",
       "      <td>MORTGAGE</td>\n",
       "      <td>11.0</td>\n",
       "      <td>MEDICAL</td>\n",
       "      <td>D</td>\n",
       "      <td>12000</td>\n",
       "      <td>14.11</td>\n",
       "      <td>1</td>\n",
       "      <td>0.15</td>\n",
       "      <td>N</td>\n",
       "      <td>6</td>\n",
       "      <td>0</td>\n",
       "    </tr>\n",
       "    <tr>\n",
       "      <th>4</th>\n",
       "      <td>22</td>\n",
       "      <td>70550</td>\n",
       "      <td>RENT</td>\n",
       "      <td>0.0</td>\n",
       "      <td>MEDICAL</td>\n",
       "      <td>E</td>\n",
       "      <td>7000</td>\n",
       "      <td>15.88</td>\n",
       "      <td>1</td>\n",
       "      <td>0.08</td>\n",
       "      <td>N</td>\n",
       "      <td>3</td>\n",
       "      <td>0</td>\n",
       "    </tr>\n",
       "    <tr>\n",
       "      <th>7</th>\n",
       "      <td>23</td>\n",
       "      <td>78500</td>\n",
       "      <td>MORTGAGE</td>\n",
       "      <td>7.0</td>\n",
       "      <td>EDUCATION</td>\n",
       "      <td>A</td>\n",
       "      <td>7200</td>\n",
       "      <td>7.49</td>\n",
       "      <td>0</td>\n",
       "      <td>0.09</td>\n",
       "      <td>N</td>\n",
       "      <td>3</td>\n",
       "      <td>0</td>\n",
       "    </tr>\n",
       "    <tr>\n",
       "      <th>9</th>\n",
       "      <td>23</td>\n",
       "      <td>80000</td>\n",
       "      <td>OWN</td>\n",
       "      <td>7.0</td>\n",
       "      <td>PERSONAL</td>\n",
       "      <td>B</td>\n",
       "      <td>9000</td>\n",
       "      <td>9.62</td>\n",
       "      <td>0</td>\n",
       "      <td>0.11</td>\n",
       "      <td>N</td>\n",
       "      <td>2</td>\n",
       "      <td>0</td>\n",
       "    </tr>\n",
       "  </tbody>\n",
       "</table>\n",
       "</div>"
      ],
      "text/plain": [
       "   person_age  person_income person_home_ownership  person_emp_length  \\\n",
       "0          21          42000                  RENT                5.0   \n",
       "3          28          66300              MORTGAGE               11.0   \n",
       "4          22          70550                  RENT                0.0   \n",
       "7          23          78500              MORTGAGE                7.0   \n",
       "9          23          80000                   OWN                7.0   \n",
       "\n",
       "  loan_intent loan_grade  loan_amnt  loan_int_rate  loan_status  \\\n",
       "0     VENTURE          D       1000          15.58            1   \n",
       "3     MEDICAL          D      12000          14.11            1   \n",
       "4     MEDICAL          E       7000          15.88            1   \n",
       "7   EDUCATION          A       7200           7.49            0   \n",
       "9    PERSONAL          B       9000           9.62            0   \n",
       "\n",
       "   loan_percent_income cb_person_default_on_file  cb_person_cred_hist_length  \\\n",
       "0                 0.02                         N                           4   \n",
       "3                 0.15                         N                           6   \n",
       "4                 0.08                         N                           3   \n",
       "7                 0.09                         N                           3   \n",
       "9                 0.11                         N                           2   \n",
       "\n",
       "   default  \n",
       "0        0  \n",
       "3        0  \n",
       "4        0  \n",
       "7        0  \n",
       "9        0  "
      ]
     },
     "execution_count": 257,
     "metadata": {},
     "output_type": "execute_result"
    }
   ],
   "source": [
    "df_age = df_test[df_test[\"person_age\"] < 30]\n",
    "df_age.head()"
   ]
  },
  {
   "cell_type": "markdown",
   "id": "f8c48465",
   "metadata": {},
   "source": [
    "About 32% of people under 30 are predicted to default, where as only 14% of people over 30 are predicted to default. This is a significant difference and shows that our model is biased against younger people."
   ]
  },
  {
   "cell_type": "code",
   "execution_count": 251,
   "id": "0259f034",
   "metadata": {},
   "outputs": [
    {
     "data": {
      "text/plain": [
       "0.31852209611205023"
      ]
     },
     "execution_count": 251,
     "metadata": {},
     "output_type": "execute_result"
    }
   ],
   "source": [
    "X_age, y_age = create_training_data(df_age)\n",
    "\n",
    "s_age = linear_score(w, X_age)\n",
    "preds_age = s_age >= t\n",
    "preds_age.mean()"
   ]
  },
  {
   "cell_type": "code",
   "execution_count": 259,
   "id": "a0d5ebd6",
   "metadata": {},
   "outputs": [
    {
     "data": {
      "text/plain": [
       "0.14033798677443057"
      ]
     },
     "execution_count": 259,
     "metadata": {},
     "output_type": "execute_result"
    }
   ],
   "source": [
    "df_age_older = df_test[df_test[\"person_age\"] > 30]\n",
    "X_age_older, y_age_older = create_training_data(df_age_older)\n",
    "\n",
    "s_age_older = linear_score(w, X_age_older)\n",
    "preds_age_older = s_age_older >= t\n",
    "preds_age_older.mean()\n"
   ]
  },
  {
   "cell_type": "markdown",
   "id": "c1173ec8",
   "metadata": {},
   "source": [
    "Now we will look if it is more diffcult to access credit if you intend to pay a medical expense. In the cells below, we make a dataframe containing people who are applying for a loan to pay a medical expense and check to see if they are disproportionately flagged as likely to default on a loan."
   ]
  },
  {
   "cell_type": "markdown",
   "id": "80538abc",
   "metadata": {},
   "source": [
    "According to the result below, there is no significant difference between the percentage of people who are rejected for a loan to pay a medical expense and the percentage of people who are rejected for a loan to pay any other expense. "
   ]
  },
  {
   "cell_type": "code",
   "execution_count": 268,
   "id": "8c94e1f1",
   "metadata": {},
   "outputs": [
    {
     "data": {
      "text/plain": [
       "0.2898415657036347"
      ]
     },
     "execution_count": 268,
     "metadata": {},
     "output_type": "execute_result"
    }
   ],
   "source": [
    "df_med = df_test[df_test[\"loan_intent\"] == \"MEDICAL\"]\n",
    "X_med, y_med = create_training_data(df_med)\n",
    "s_med = linear_score(w, X_med)\n",
    "preds_med = s_med >= t\n",
    "preds_med.mean()"
   ]
  },
  {
   "cell_type": "code",
   "execution_count": 265,
   "id": "6a26fc93",
   "metadata": {},
   "outputs": [
    {
     "data": {
      "text/plain": [
       "0.26878488621726065"
      ]
     },
     "execution_count": 265,
     "metadata": {},
     "output_type": "execute_result"
    }
   ],
   "source": [
    "df_med2 = df_test[df_test[\"loan_intent\"] != \"MEDICAL\"]\n",
    "X_med2, y_med2 = create_training_data(df_med2)\n",
    "s_med2 = linear_score(w, X_med2)\n",
    "preds_med2 = s_med2 >= t\n",
    "preds_med2.mean()"
   ]
  },
  {
   "cell_type": "markdown",
   "id": "0058a06e",
   "metadata": {},
   "source": [
    "We can see that people who are applying for a loan to pay a medical expense are more likely to default on a loan than people who are applying for a loan to pay any other expense."
   ]
  },
  {
   "cell_type": "code",
   "execution_count": 269,
   "id": "a58430c0",
   "metadata": {},
   "outputs": [
    {
     "data": {
      "text/plain": [
       "0.2842497670083877"
      ]
     },
     "execution_count": 269,
     "metadata": {},
     "output_type": "execute_result"
    }
   ],
   "source": [
    "y_med.mean()"
   ]
  },
  {
   "cell_type": "code",
   "execution_count": 270,
   "id": "3d0e64f5",
   "metadata": {},
   "outputs": [
    {
     "data": {
      "text/plain": [
       "0.20867325032202663"
      ]
     },
     "execution_count": 270,
     "metadata": {},
     "output_type": "execute_result"
    }
   ],
   "source": [
    "y_med2.mean()"
   ]
  },
  {
   "cell_type": "markdown",
   "id": "9f7f0ea6",
   "metadata": {},
   "source": [
    "# Discussion\n",
    "In this blog post, we learn about how to use score based classification to determine whether a person is likely to default on a loan. To do this, we had to find a weight vector, a scoring function, and a threshold that would maximize the total expected profit for the bank. We also learn that in defining a scoring function and threshold, we introduce bias into our model. Notably, we see that our model is biased against younger people. We found that people under 30 are more than twice as likely to be flagged as likely to default on a loan than people over 30. We also found that people applying to pay a medical expense are slighlty more likely to be flagged as compared to any other loan intent, but not significantly so.\n",
    "\n",
    "When it comes to medical expenses, we see that people applying for a loan are more likely to default on a loan than people applying for a loan to pay any other expense. This is not surprising as medical expenses are often unexpected and can be difficult to pay off. I don't believe that it is fair to penalize people for having medical expenses because they are often unavoidable and critical for a person's wellbeing, where as other expenses are not critical needs. "
   ]
  }
 ],
 "metadata": {
  "kernelspec": {
   "display_name": "ml-451",
   "language": "python",
   "name": "python3"
  },
  "language_info": {
   "codemirror_mode": {
    "name": "ipython",
    "version": 3
   },
   "file_extension": ".py",
   "mimetype": "text/x-python",
   "name": "python",
   "nbconvert_exporter": "python",
   "pygments_lexer": "ipython3",
   "version": "3.9.21"
  }
 },
 "nbformat": 4,
 "nbformat_minor": 5
}
